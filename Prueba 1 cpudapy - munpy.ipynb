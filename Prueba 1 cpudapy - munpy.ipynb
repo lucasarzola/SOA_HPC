{
 "cells": [
  {
   "cell_type": "markdown",
   "metadata": {
    "id": "JyG45Qk3qQLS"
   },
   "source": [
    "# Ejemplo 1 Python y cuda\n"
   ]
  },
  {
   "cell_type": "markdown",
   "metadata": {
    "id": "7cRnhv_7N4Pa"
   },
   "source": [
    "## Paso 0: Instalar modulo pycuda\n",
    "Este paso se debe realizar una vez por notebook."
   ]
  },
  {
   "cell_type": "code",
   "execution_count": 3,
   "metadata": {
    "colab": {
     "base_uri": "https://localhost:8080/",
     "height": 457
    },
    "executionInfo": {
     "elapsed": 103368,
     "status": "ok",
     "timestamp": 1601320661962,
     "user": {
      "displayName": "",
      "photoUrl": "",
      "userId": ""
     },
     "user_tz": 180
    },
    "id": "z74FNbCszDmw",
    "outputId": "5045b988-98e2-42ea-cb09-197491a0acec"
   },
   "outputs": [
    {
     "name": "stdout",
     "output_type": "stream",
     "text": [
      "Requirement already satisfied: pycuda in c:\\users\\waldo\\appdata\\local\\packages\\pythonsoftwarefoundation.python.3.8_qbz5n2kfra8p0\\localcache\\local-packages\\python38\\site-packages (2020.1)\n",
      "Requirement already satisfied: pytools>=2011.2 in c:\\users\\waldo\\appdata\\local\\packages\\pythonsoftwarefoundation.python.3.8_qbz5n2kfra8p0\\localcache\\local-packages\\python38\\site-packages (from pycuda) (2020.4.3)\n",
      "Requirement already satisfied: decorator>=3.2.0 in c:\\users\\waldo\\appdata\\local\\packages\\pythonsoftwarefoundation.python.3.8_qbz5n2kfra8p0\\localcache\\local-packages\\python38\\site-packages (from pycuda) (4.4.2)\n",
      "Requirement already satisfied: appdirs>=1.4.0 in c:\\users\\waldo\\appdata\\local\\packages\\pythonsoftwarefoundation.python.3.8_qbz5n2kfra8p0\\localcache\\local-packages\\python38\\site-packages (from pycuda) (1.4.4)\n",
      "Requirement already satisfied: mako in c:\\users\\waldo\\appdata\\local\\packages\\pythonsoftwarefoundation.python.3.8_qbz5n2kfra8p0\\localcache\\local-packages\\python38\\site-packages (from pycuda) (1.1.3)\n",
      "Requirement already satisfied: six>=1.8.0 in c:\\users\\waldo\\appdata\\local\\packages\\pythonsoftwarefoundation.python.3.8_qbz5n2kfra8p0\\localcache\\local-packages\\python38\\site-packages (from pytools>=2011.2->pycuda) (1.15.0)\n",
      "Requirement already satisfied: numpy>=1.6.0 in c:\\users\\waldo\\appdata\\local\\packages\\pythonsoftwarefoundation.python.3.8_qbz5n2kfra8p0\\localcache\\local-packages\\python38\\site-packages (from pytools>=2011.2->pycuda) (1.19.2)\n",
      "Requirement already satisfied: MarkupSafe>=0.9.2 in c:\\users\\waldo\\appdata\\local\\packages\\pythonsoftwarefoundation.python.3.8_qbz5n2kfra8p0\\localcache\\local-packages\\python38\\site-packages (from mako->pycuda) (1.1.1)\n"
     ]
    }
   ],
   "source": [
    "!pip install pycuda"
   ]
  },
  {
   "cell_type": "code",
   "execution_count": 1,
   "metadata": {
    "colab": {
     "base_uri": "https://localhost:8080/",
     "height": 319
    },
    "executionInfo": {
     "elapsed": 1061,
     "status": "ok",
     "timestamp": 1601320858387,
     "user": {
      "displayName": "",
      "photoUrl": "",
      "userId": ""
     },
     "user_tz": 180
    },
    "id": "9c7mZSnu0M3m",
    "outputId": "20b6c024-f269-4868-c380-b3a589a79d44"
   },
   "outputs": [
    {
     "name": "stdout",
     "output_type": "stream",
     "text": [
      "------------------------------------\n",
      "[[-1.0223628  -0.9463267  -0.25135282 -0.42176765 -0.49842495]\n",
      " [ 0.19651891 -0.6378178  -0.7643275  -0.58470917 -0.43497312]\n",
      " [-1.4196063   0.21524853 -0.44553477 -1.2642446   0.89078   ]\n",
      " [ 1.1027408  -1.245437   -0.41024438 -0.04699108  0.6916818 ]\n",
      " [-1.6535466  -0.09667925 -0.42934862 -0.01499268  0.5022499 ]]\n",
      "------------------------------------\n",
      "[[ 1.1914625   1.105957   -0.2088947  -0.7434191  -0.4830116 ]\n",
      " [ 0.30171323  0.6471187  -0.55696553 -0.3248315   1.4652334 ]\n",
      " [-1.1970657  -0.3954426  -0.578356    0.28670156  0.6803275 ]\n",
      " [-0.88739693  0.10012447 -2.2625914   0.21938543  1.955516  ]\n",
      " [-0.84720427 -0.2232366   1.467681   -1.4138446  -0.41007283]]\n",
      "------------------------------------\n",
      "[[-2.0447257  -1.8926533  -0.50270563 -0.8435353  -0.9968499 ]\n",
      " [ 0.39303783 -1.2756356  -1.528655   -1.1694183  -0.86994624]\n",
      " [-2.8392127   0.43049705 -0.89106953 -2.528489    1.78156   ]\n",
      " [ 2.2054815  -2.490874   -0.82048875 -0.09398216  1.3833636 ]\n",
      " [-3.3070931  -0.1933585  -0.85869724 -0.02998536  1.0044998 ]]\n"
     ]
    },
    {
     "name": "stderr",
     "output_type": "stream",
     "text": [
      "<ipython-input-1-3e745c65a140>:27: UserWarning: The CUDA compiler succeeded, but said the following:\n",
      "kernel.cu\r\n",
      "\n",
      "  module = SourceModule(\"\"\"\n"
     ]
    }
   ],
   "source": [
    "import pycuda.driver as cuda\n",
    "import pycuda.autoinit\n",
    "from pycuda.compiler import SourceModule\n",
    "\n",
    "import numpy\n",
    "m = 5\n",
    "n = 5\n",
    "\n",
    "# Defino la memoria CPU.\n",
    "a_cpu = numpy.random.randn( m, n )\n",
    "a_cpu = a_cpu.astype( numpy.float32() )\n",
    "\n",
    "b_cpu = numpy.random.randn( m, n )\n",
    "b_cpu = b_cpu.astype( numpy.float32() )\n",
    "\n",
    "r_cpu = numpy.empty_like( a_cpu )\n",
    "\n",
    "# Inicializo la memoria GPU.\n",
    "a_gpu = cuda.mem_alloc( a_cpu.nbytes )\n",
    "b_gpu = cuda.mem_alloc( b_cpu.nbytes )\n",
    "\n",
    "# Copio la memoria GPU.\n",
    "cuda.memcpy_htod( a_gpu, a_cpu )\n",
    "cuda.memcpy_htod( b_gpu, a_cpu )\n",
    "\n",
    "# Defino la lógica del kernel (en lenguaje similar a c (de proposito general))\n",
    "module = SourceModule(\"\"\"\n",
    "__global__ void add( float *a, float *b )\n",
    "{\n",
    "  int idx = threadIdx.x + threadIdx.y*blockDim.x;\n",
    "  a[idx]  = a[idx] + b[idx];\n",
    "}\n",
    "\"\"\") \n",
    "\n",
    "kernel = module.get_function(\"add\")\n",
    "\n",
    "kernel( a_gpu, b_gpu, block=(m,n,1) )\n",
    "\n",
    "cuda.memcpy_dtoh( r_cpu, a_gpu )\n",
    "\n",
    "print( \"------------------------------------\")\n",
    "print( a_cpu )\n",
    "print( \"------------------------------------\")\n",
    "print( b_cpu )\n",
    "print( \"------------------------------------\")\n",
    "print( r_cpu )\n",
    "\n"
   ]
  },
  {
   "cell_type": "code",
   "execution_count": null,
   "metadata": {},
   "outputs": [],
   "source": []
  }
 ],
 "metadata": {
  "accelerator": "GPU",
  "colab": {
   "collapsed_sections": [],
   "name": "Prueba 1 cpudapy - munpy",
   "provenance": [
    {
     "file_id": "/v2/external/notebooks/basic_features_overview.ipynb",
     "timestamp": 1601321037647
    }
   ]
  },
  "kernelspec": {
   "display_name": "Python 3",
   "language": "python",
   "name": "python3"
  },
  "language_info": {
   "codemirror_mode": {
    "name": "ipython",
    "version": 3
   },
   "file_extension": ".py",
   "mimetype": "text/x-python",
   "name": "python",
   "nbconvert_exporter": "python",
   "pygments_lexer": "ipython3",
   "version": "3.8.6"
  }
 },
 "nbformat": 4,
 "nbformat_minor": 1
}
